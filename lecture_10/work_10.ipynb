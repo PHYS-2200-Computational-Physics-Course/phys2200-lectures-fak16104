{
 "cells": [
  {
   "cell_type": "code",
   "execution_count": 23,
   "id": "8f363f14-cc90-4132-93af-2ba53c48e4e3",
   "metadata": {},
   "outputs": [
    {
     "data": {
      "text/plain": [
       "mybasel (generic function with 1 method)"
      ]
     },
     "execution_count": 23,
     "metadata": {},
     "output_type": "execute_result"
    }
   ],
   "source": [
    "\n",
    "\"\"\"\n",
    "    s = mybasel(N)\n",
    "\n",
    "MIDTERM WORK\n",
    "\n",
    "Calculate finite Basel sum\n",
    "\"\"\"\n",
    "\n",
    "function mybasel(N)\n",
    "    s = 0.0\n",
    "    for n = 1:N\n",
    "        s+= 1/n^2\n",
    "    end\n",
    "return s\n",
    "\n",
    "end"
   ]
  },
  {
   "cell_type": "code",
   "execution_count": 24,
   "id": "13bd5fdf-ef7c-4e99-8ccd-43591bc0d353",
   "metadata": {},
   "outputs": [
    {
     "data": {
      "text/plain": [
       "mybasel (generic function with 1 method)"
      ]
     },
     "execution_count": 24,
     "metadata": {},
     "output_type": "execute_result"
    }
   ],
   "source": [
    "mybasel"
   ]
  },
  {
   "cell_type": "code",
   "execution_count": 25,
   "id": "55a72b3d-777f-40ce-982f-b67413e3066e",
   "metadata": {},
   "outputs": [
    {
     "data": {
      "text/plain": [
       "0.0005"
      ]
     },
     "execution_count": 25,
     "metadata": {},
     "output_type": "execute_result"
    }
   ],
   "source": [
    "round(abs(mybasel(2000) - pi^2/6), sigdigits = 1)"
   ]
  },
  {
   "cell_type": "code",
   "execution_count": 28,
   "id": "44b67480-3dd6-42d3-962a-2ee61607c682",
   "metadata": {},
   "outputs": [
    {
     "data": {
      "text/plain": [
       "myrichardson (generic function with 1 method)"
      ]
     },
     "execution_count": 28,
     "metadata": {},
     "output_type": "execute_result"
    }
   ],
   "source": [
    "\n",
    "function myrichardson(N)\n",
    "    s1 = mybasel(N)\n",
    "    s2 = mybasel(2*N)\n",
    "    return 2*s2 - s1\n",
    "end"
   ]
  },
  {
   "cell_type": "code",
   "execution_count": 29,
   "id": "5ec82750-f7a3-4dec-8f7b-9ed59dc00dfc",
   "metadata": {},
   "outputs": [
    {
     "data": {
      "text/plain": [
       "2.0e-7"
      ]
     },
     "execution_count": 29,
     "metadata": {},
     "output_type": "execute_result"
    }
   ],
   "source": [
    "round(abs(mybasel(5000000) - pi^2/6), sigdigits=1)"
   ]
  },
  {
   "cell_type": "code",
   "execution_count": 30,
   "id": "9bb92827-fbce-456a-af80-67a108740d45",
   "metadata": {},
   "outputs": [
    {
     "data": {
      "text/plain": [
       "2.0e-7"
      ]
     },
     "execution_count": 30,
     "metadata": {},
     "output_type": "execute_result"
    }
   ],
   "source": [
    "round(abs(myrichardson(1000) - pi^2/6), sigdigits=1)"
   ]
  },
  {
   "cell_type": "code",
   "execution_count": null,
   "id": "d29b143d-8181-4813-ba9b-b472e674ab7a",
   "metadata": {},
   "outputs": [],
   "source": []
  }
 ],
 "metadata": {
  "kernelspec": {
   "display_name": "Julia 1.11.6",
   "language": "julia",
   "name": "julia-1.11"
  },
  "language_info": {
   "file_extension": ".jl",
   "mimetype": "application/julia",
   "name": "julia",
   "version": "1.11.6"
  }
 },
 "nbformat": 4,
 "nbformat_minor": 5
}
