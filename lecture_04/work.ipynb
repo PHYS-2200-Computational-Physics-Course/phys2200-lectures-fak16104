{
 "cells": [
  {
   "cell_type": "code",
   "execution_count": 7,
   "id": "99894d5c-0c91-4c74-b4da-203f46db9687",
   "metadata": {},
   "outputs": [],
   "source": [
    "# ] add DelimitedFiles\n",
    "using DelimitedFiles"
   ]
  },
  {
   "cell_type": "code",
   "execution_count": 8,
   "id": "1433cddb-e303-43d8-98ac-fe26fe2aa112",
   "metadata": {},
   "outputs": [
    {
     "data": {
      "text/plain": [
       "\"https://www.phys.uconn.edu/~rozman/Courses/P2200_25F/downloads/trinity-test.data\""
      ]
     },
     "execution_count": 8,
     "metadata": {},
     "output_type": "execute_result"
    }
   ],
   "source": [
    "url = \"https://www.phys.uconn.edu/~rozman/Courses/P2200_25F/downloads/trinity-test.data\""
   ]
  },
  {
   "cell_type": "code",
   "execution_count": 9,
   "id": "34e29e84-e2e4-4c5a-9f96-155d21f73c31",
   "metadata": {},
   "outputs": [
    {
     "data": {
      "text/plain": [
       "\"/tmp/jl_n0bEByhslq\""
      ]
     },
     "execution_count": 9,
     "metadata": {},
     "output_type": "execute_result"
    }
   ],
   "source": [
    "\n",
    "obsevations = download(url)  # Download the data to a temporary file"
   ]
  },
  {
   "cell_type": "code",
   "execution_count": 16,
   "id": "654afb81-5ca3-4bae-93ca-b55062846ac1",
   "metadata": {},
   "outputs": [
    {
     "data": {
      "text/plain": [
       "25×2 Matrix{Float64}:\n",
       "  0.1    11.1\n",
       "  0.24   19.9\n",
       "  0.38   25.4\n",
       "  0.52   28.8\n",
       "  0.66   31.9\n",
       "  0.8    34.2\n",
       "  0.94   36.3\n",
       "  1.08   38.9\n",
       "  1.22   41.0\n",
       "  1.36   42.8\n",
       "  1.5    44.4\n",
       "  1.65   46.0\n",
       "  1.79   46.9\n",
       "  1.93   48.7\n",
       "  3.26   59.0\n",
       "  3.53   61.1\n",
       "  3.8    62.9\n",
       "  4.07   64.3\n",
       "  4.34   65.6\n",
       "  4.61   67.3\n",
       " 15.0   106.5\n",
       " 25.0   130.0\n",
       " 34.0   145.0\n",
       " 53.0   175.0\n",
       " 62.0   185.0"
      ]
     },
     "execution_count": 16,
     "metadata": {},
     "output_type": "execute_result"
    }
   ],
   "source": [
    "dat = readdlm(obsevations, comments=true, comment_char='#')  # Read the data from the temporary file, ignore comments"
   ]
  },
  {
   "cell_type": "code",
   "execution_count": 18,
   "id": "33619c81-7e09-4ab3-951e-9c7c6bb13a26",
   "metadata": {},
   "outputs": [
    {
     "ename": "LoadError",
     "evalue": "cannot assign a value to imported variable Base.time from module Main",
     "output_type": "error",
     "traceback": [
      "cannot assign a value to imported variable Base.time from module Main",
      "",
      "Stacktrace:",
      " [1] top-level scope",
      "\u001b[90m   @\u001b[39m \u001b[90m\u001b[4mIn[18]:1\u001b[24m\u001b[39m"
     ]
    }
   ],
   "source": [
    "time = dat[:, 1]     # time in ms"
   ]
  },
  {
   "cell_type": "code",
   "execution_count": 19,
   "id": "bcb7c00c-2664-4f72-adb2-df7efe11557c",
   "metadata": {},
   "outputs": [
    {
     "data": {
      "text/plain": [
       "25-element Vector{Float64}:\n",
       "  11.1\n",
       "  19.9\n",
       "  25.4\n",
       "  28.8\n",
       "  31.9\n",
       "  34.2\n",
       "  36.3\n",
       "  38.9\n",
       "  41.0\n",
       "  42.8\n",
       "  44.4\n",
       "  46.0\n",
       "  46.9\n",
       "  48.7\n",
       "  59.0\n",
       "  61.1\n",
       "  62.9\n",
       "  64.3\n",
       "  65.6\n",
       "  67.3\n",
       " 106.5\n",
       " 130.0\n",
       " 145.0\n",
       " 175.0\n",
       " 185.0"
      ]
     },
     "execution_count": 19,
     "metadata": {},
     "output_type": "execute_result"
    }
   ],
   "source": [
    "\n",
    "radius = dat[:, 2]   # radius in m"
   ]
  },
  {
   "cell_type": "code",
   "execution_count": 20,
   "id": "1aab3d18-4e86-44b1-84ea-c47efb7a39d9",
   "metadata": {},
   "outputs": [],
   "source": [
    "using PyPlot"
   ]
  },
  {
   "cell_type": "code",
   "execution_count": 21,
   "id": "d0475dff-1673-49b2-8e01-c45a391ef57f",
   "metadata": {},
   "outputs": [
    {
     "ename": "LoadError",
     "evalue": "(in a Julia function called from Python)\nJULIA: MethodError: no method matching iterate(::typeof(time))\nThe function `iterate` exists, but no method is defined for this combination of argument types.\n\nClosest candidates are:\n  iterate(!Matched::LaTeXString, !Matched::Int64)\n   @ LaTeXStrings ~/.julia/packages/LaTeXStrings/6NrIG/src/LaTeXStrings.jl:108\n  iterate(!Matched::LaTeXString)\n   @ LaTeXStrings ~/.julia/packages/LaTeXStrings/6NrIG/src/LaTeXStrings.jl:109\n  iterate(!Matched::Base.AsyncCollector, !Matched::Base.AsyncCollectorState)\n   @ Base asyncmap.jl:315\n  ...\n\nStacktrace:\n  [1] jlwrap_iterator(o::Function)\n    @ PyCall ~/.julia/packages/PyCall/1gn3u/src/pyiterator.jl:144\n  [2] pyjlwrap_getiter(self_::Ptr{PyCall.PyObject_struct})\n    @ PyCall ~/.julia/packages/PyCall/1gn3u/src/pyiterator.jl:125\n  [3] macro expansion\n    @ ~/.julia/packages/PyCall/1gn3u/src/exception.jl:108 [inlined]\n  [4] #107\n    @ ~/.julia/packages/PyCall/1gn3u/src/pyfncall.jl:43 [inlined]\n  [5] disable_sigint\n    @ ./c.jl:167 [inlined]\n  [6] __pycall!\n    @ ~/.julia/packages/PyCall/1gn3u/src/pyfncall.jl:42 [inlined]\n  [7] _pycall!(ret::PyCall.PyObject, o::PyCall.PyObject, args::Tuple{typeof(time), Vector{Float64}}, nargs::Int64, kw::Ptr{Nothing})\n    @ PyCall ~/.julia/packages/PyCall/1gn3u/src/pyfncall.jl:29\n  [8] _pycall!(ret::PyCall.PyObject, o::PyCall.PyObject, args::Tuple{typeof(time), Vector{Float64}}, kwargs::@Kwargs{})\n    @ PyCall ~/.julia/packages/PyCall/1gn3u/src/pyfncall.jl:11\n  [9] pycall(::PyCall.PyObject, ::Type{PyCall.PyAny}, ::Function, ::Vararg{Any}; kwargs::@Kwargs{})\n    @ PyCall ~/.julia/packages/PyCall/1gn3u/src/pyfncall.jl:83\n [10] plot(::Function, ::Vararg{Any}; kws::@Kwargs{})\n    @ PyPlot ~/.julia/packages/PyPlot/G422O/src/PyPlot.jl:194\n [11] plot(::Function, ::Vararg{Any})\n    @ PyPlot ~/.julia/packages/PyPlot/G422O/src/PyPlot.jl:190\n [12] top-level scope\n    @ In[21]:1\n [13] eval\n    @ ./boot.jl:430 [inlined]\n [14] include_string(mapexpr::typeof(REPL.softscope), mod::Module, code::String, filename::String)\n    @ Base ./loading.jl:2734\n [15] execute_request(socket::ZMQ.Socket, kernel::IJulia.Kernel, msg::IJulia.Msg)\n    @ IJulia ~/.julia/packages/IJulia/Tb4Q4/src/execute_request.jl:84\n [16] #invokelatest#2\n    @ ./essentials.jl:1055 [inlined]\n [17] invokelatest\n    @ ./essentials.jl:1052 [inlined]\n [18] eventloop(socket::ZMQ.Socket, kernel::IJulia.Kernel)\n    @ IJulia ~/.julia/packages/IJulia/Tb4Q4/src/eventloop.jl:25\n [19] (::IJulia.var\"#33#36\"{IJulia.Kernel})()\n    @ IJulia ~/.julia/packages/IJulia/Tb4Q4/src/eventloop.jl:70",
     "output_type": "error",
     "traceback": [
      "(in a Julia function called from Python)\nJULIA: MethodError: no method matching iterate(::typeof(time))\nThe function `iterate` exists, but no method is defined for this combination of argument types.\n\nClosest candidates are:\n  iterate(!Matched::LaTeXString, !Matched::Int64)\n   @ LaTeXStrings ~/.julia/packages/LaTeXStrings/6NrIG/src/LaTeXStrings.jl:108\n  iterate(!Matched::LaTeXString)\n   @ LaTeXStrings ~/.julia/packages/LaTeXStrings/6NrIG/src/LaTeXStrings.jl:109\n  iterate(!Matched::Base.AsyncCollector, !Matched::Base.AsyncCollectorState)\n   @ Base asyncmap.jl:315\n  ...\n\nStacktrace:\n  [1] jlwrap_iterator(o::Function)\n    @ PyCall ~/.julia/packages/PyCall/1gn3u/src/pyiterator.jl:144\n  [2] pyjlwrap_getiter(self_::Ptr{PyCall.PyObject_struct})\n    @ PyCall ~/.julia/packages/PyCall/1gn3u/src/pyiterator.jl:125\n  [3] macro expansion\n    @ ~/.julia/packages/PyCall/1gn3u/src/exception.jl:108 [inlined]\n  [4] #107\n    @ ~/.julia/packages/PyCall/1gn3u/src/pyfncall.jl:43 [inlined]\n  [5] disable_sigint\n    @ ./c.jl:167 [inlined]\n  [6] __pycall!\n    @ ~/.julia/packages/PyCall/1gn3u/src/pyfncall.jl:42 [inlined]\n  [7] _pycall!(ret::PyCall.PyObject, o::PyCall.PyObject, args::Tuple{typeof(time), Vector{Float64}}, nargs::Int64, kw::Ptr{Nothing})\n    @ PyCall ~/.julia/packages/PyCall/1gn3u/src/pyfncall.jl:29\n  [8] _pycall!(ret::PyCall.PyObject, o::PyCall.PyObject, args::Tuple{typeof(time), Vector{Float64}}, kwargs::@Kwargs{})\n    @ PyCall ~/.julia/packages/PyCall/1gn3u/src/pyfncall.jl:11\n  [9] pycall(::PyCall.PyObject, ::Type{PyCall.PyAny}, ::Function, ::Vararg{Any}; kwargs::@Kwargs{})\n    @ PyCall ~/.julia/packages/PyCall/1gn3u/src/pyfncall.jl:83\n [10] plot(::Function, ::Vararg{Any}; kws::@Kwargs{})\n    @ PyPlot ~/.julia/packages/PyPlot/G422O/src/PyPlot.jl:194\n [11] plot(::Function, ::Vararg{Any})\n    @ PyPlot ~/.julia/packages/PyPlot/G422O/src/PyPlot.jl:190\n [12] top-level scope\n    @ In[21]:1\n [13] eval\n    @ ./boot.jl:430 [inlined]\n [14] include_string(mapexpr::typeof(REPL.softscope), mod::Module, code::String, filename::String)\n    @ Base ./loading.jl:2734\n [15] execute_request(socket::ZMQ.Socket, kernel::IJulia.Kernel, msg::IJulia.Msg)\n    @ IJulia ~/.julia/packages/IJulia/Tb4Q4/src/execute_request.jl:84\n [16] #invokelatest#2\n    @ ./essentials.jl:1055 [inlined]\n [17] invokelatest\n    @ ./essentials.jl:1052 [inlined]\n [18] eventloop(socket::ZMQ.Socket, kernel::IJulia.Kernel)\n    @ IJulia ~/.julia/packages/IJulia/Tb4Q4/src/eventloop.jl:25\n [19] (::IJulia.var\"#33#36\"{IJulia.Kernel})()\n    @ IJulia ~/.julia/packages/IJulia/Tb4Q4/src/eventloop.jl:70",
      "",
      "Stacktrace:",
      "  [1] \u001b[0m\u001b[1mpyerr_check\u001b[22m",
      "\u001b[90m    @\u001b[39m \u001b[90m~/.julia/packages/PyCall/1gn3u/src/\u001b[39m\u001b[90m\u001b[4mexception.jl:75\u001b[24m\u001b[39m\u001b[90m [inlined]\u001b[39m",
      "  [2] \u001b[0m\u001b[1mpyerr_check\u001b[22m",
      "\u001b[90m    @\u001b[39m \u001b[90m~/.julia/packages/PyCall/1gn3u/src/\u001b[39m\u001b[90m\u001b[4mexception.jl:79\u001b[24m\u001b[39m\u001b[90m [inlined]\u001b[39m",
      "  [3] \u001b[0m\u001b[1m_handle_error\u001b[22m\u001b[0m\u001b[1m(\u001b[22m\u001b[90mmsg\u001b[39m::\u001b[0mString\u001b[0m\u001b[1m)\u001b[22m",
      "\u001b[90m    @\u001b[39m \u001b[35mPyCall\u001b[39m \u001b[90m~/.julia/packages/PyCall/1gn3u/src/\u001b[39m\u001b[90m\u001b[4mexception.jl:96\u001b[24m\u001b[39m",
      "  [4] \u001b[0m\u001b[1mmacro expansion\u001b[22m",
      "\u001b[90m    @\u001b[39m \u001b[90m~/.julia/packages/PyCall/1gn3u/src/\u001b[39m\u001b[90m\u001b[4mexception.jl:110\u001b[24m\u001b[39m\u001b[90m [inlined]\u001b[39m",
      "  [5] \u001b[0m\u001b[1m#107\u001b[22m",
      "\u001b[90m    @\u001b[39m \u001b[90m~/.julia/packages/PyCall/1gn3u/src/\u001b[39m\u001b[90m\u001b[4mpyfncall.jl:43\u001b[24m\u001b[39m\u001b[90m [inlined]\u001b[39m",
      "  [6] \u001b[0m\u001b[1mdisable_sigint\u001b[22m",
      "\u001b[90m    @\u001b[39m \u001b[90m./\u001b[39m\u001b[90m\u001b[4mc.jl:167\u001b[24m\u001b[39m\u001b[90m [inlined]\u001b[39m",
      "  [7] \u001b[0m\u001b[1m__pycall!\u001b[22m",
      "\u001b[90m    @\u001b[39m \u001b[90m~/.julia/packages/PyCall/1gn3u/src/\u001b[39m\u001b[90m\u001b[4mpyfncall.jl:42\u001b[24m\u001b[39m\u001b[90m [inlined]\u001b[39m",
      "  [8] \u001b[0m\u001b[1m_pycall!\u001b[22m\u001b[0m\u001b[1m(\u001b[22m\u001b[90mret\u001b[39m::\u001b[0mPyCall.PyObject, \u001b[90mo\u001b[39m::\u001b[0mPyCall.PyObject, \u001b[90margs\u001b[39m::\u001b[0mTuple\u001b[90m{typeof(time), Vector{Float64}}\u001b[39m, \u001b[90mnargs\u001b[39m::\u001b[0mInt64, \u001b[90mkw\u001b[39m::\u001b[0mPtr\u001b[90m{Nothing}\u001b[39m\u001b[0m\u001b[1m)\u001b[22m",
      "\u001b[90m    @\u001b[39m \u001b[35mPyCall\u001b[39m \u001b[90m~/.julia/packages/PyCall/1gn3u/src/\u001b[39m\u001b[90m\u001b[4mpyfncall.jl:29\u001b[24m\u001b[39m",
      "  [9] \u001b[0m\u001b[1m_pycall!\u001b[22m\u001b[0m\u001b[1m(\u001b[22m\u001b[90mret\u001b[39m::\u001b[0mPyCall.PyObject, \u001b[90mo\u001b[39m::\u001b[0mPyCall.PyObject, \u001b[90margs\u001b[39m::\u001b[0mTuple\u001b[90m{typeof(time), Vector{Float64}}\u001b[39m, \u001b[90mkwargs\u001b[39m::\u001b[0m@Kwargs\u001b[90m{}\u001b[39m\u001b[0m\u001b[1m)\u001b[22m",
      "\u001b[90m    @\u001b[39m \u001b[35mPyCall\u001b[39m \u001b[90m~/.julia/packages/PyCall/1gn3u/src/\u001b[39m\u001b[90m\u001b[4mpyfncall.jl:11\u001b[24m\u001b[39m",
      " [10] \u001b[0m\u001b[1mpycall\u001b[22m\u001b[0m\u001b[1m(\u001b[22m::\u001b[0mPyCall.PyObject, ::\u001b[0mType\u001b[90m{PyCall.PyAny}\u001b[39m, ::\u001b[0mFunction, ::\u001b[0mVararg\u001b[90m{Any}\u001b[39m; \u001b[90mkwargs\u001b[39m::\u001b[0m@Kwargs\u001b[90m{}\u001b[39m\u001b[0m\u001b[1m)\u001b[22m",
      "\u001b[90m    @\u001b[39m \u001b[35mPyCall\u001b[39m \u001b[90m~/.julia/packages/PyCall/1gn3u/src/\u001b[39m\u001b[90m\u001b[4mpyfncall.jl:83\u001b[24m\u001b[39m",
      " [11] \u001b[0m\u001b[1mplot\u001b[22m\u001b[0m\u001b[1m(\u001b[22m::\u001b[0mFunction, ::\u001b[0mVararg\u001b[90m{Any}\u001b[39m; \u001b[90mkws\u001b[39m::\u001b[0m@Kwargs\u001b[90m{}\u001b[39m\u001b[0m\u001b[1m)\u001b[22m",
      "\u001b[90m    @\u001b[39m \u001b[36mPyPlot\u001b[39m \u001b[90m~/.julia/packages/PyPlot/G422O/src/\u001b[39m\u001b[90m\u001b[4mPyPlot.jl:194\u001b[24m\u001b[39m",
      " [12] \u001b[0m\u001b[1mplot\u001b[22m\u001b[0m\u001b[1m(\u001b[22m::\u001b[0mFunction, ::\u001b[0mVararg\u001b[90m{Any}\u001b[39m\u001b[0m\u001b[1m)\u001b[22m",
      "\u001b[90m    @\u001b[39m \u001b[36mPyPlot\u001b[39m \u001b[90m~/.julia/packages/PyPlot/G422O/src/\u001b[39m\u001b[90m\u001b[4mPyPlot.jl:190\u001b[24m\u001b[39m",
      " [13] top-level scope",
      "\u001b[90m    @\u001b[39m \u001b[90m\u001b[4mIn[21]:1\u001b[24m\u001b[39m"
     ]
    }
   ],
   "source": [
    "plot(time, radius)"
   ]
  },
  {
   "cell_type": "code",
   "execution_count": null,
   "id": "4400b8e4-df12-4941-9cd1-6e20ec0cc80f",
   "metadata": {},
   "outputs": [],
   "source": []
  },
  {
   "cell_type": "code",
   "execution_count": null,
   "id": "a18d7dae-755c-4c59-9afc-3273bd983041",
   "metadata": {},
   "outputs": [],
   "source": []
  }
 ],
 "metadata": {
  "kernelspec": {
   "display_name": "Julia 1.11.6",
   "language": "julia",
   "name": "julia-1.11"
  },
  "language_info": {
   "file_extension": ".jl",
   "mimetype": "application/julia",
   "name": "julia",
   "version": "1.11.6"
  }
 },
 "nbformat": 4,
 "nbformat_minor": 5
}
