{
 "cells": [
  {
   "cell_type": "code",
   "execution_count": 16,
   "id": "96296dcd-2a24-4e50-a474-ba1480c1e274",
   "metadata": {},
   "outputs": [
    {
     "data": {
      "text/plain": [
       "mylegendre (generic function with 1 method)"
      ]
     },
     "execution_count": 16,
     "metadata": {},
     "output_type": "execute_result"
    }
   ],
   "source": [
    "\n",
    "\"\"\"\n",
    "    mylegendre(n, x)\n",
    "\n",
    "Calculate  zLegendre polynomial P_n(x) using the recurrence relation    \n",
    "(n+1)P_{n+1}(x) = (2*n+1)*x*P_n(x) - n*P_{n-1}(x), and P_0(x) = 1, P_1(x) = x\n",
    "\"\"\"\n",
    "\n",
    "function mylegendre(n,x)\n",
    "\n",
    "    pp = 1\n",
    "    if m== 0\n",
    "        return pp\n",
    "    end\n",
    "\n",
    "    pc = x\n",
    "    if m == 1\n",
    "        return pc\n",
    "    end\n",
    "    for n = 1:(m-1)\n",
    "end\n",
    "\n",
    "        for i = 1:(n-1)\n",
    "        #pn = ((2*i + 1)*x*pc - i*pp)/(i + 1)\n",
    "        # Prepare for the next iteration\n",
    "        #pp = pc\n",
    "        #pc = pn\n",
    "        pc, pp = ((2*i + 1)*x*pc - i*pp)/(i + 1), pc  # shorter version\n",
    "    end\n",
    "    \n",
    "    return pc\n",
    "    \n",
    "end"
   ]
  },
  {
   "cell_type": "code",
   "execution_count": 17,
   "id": "03d00722-3cbb-4639-b635-3f7bab71ffe8",
   "metadata": {},
   "outputs": [
    {
     "ename": "LoadError",
     "evalue": "UndefVarError: `m` not defined in `Main`\nSuggestion: check for spelling errors or missing imports.",
     "output_type": "error",
     "traceback": [
      "UndefVarError: `m` not defined in `Main`\nSuggestion: check for spelling errors or missing imports.",
      "",
      "Stacktrace:",
      " [1] \u001b[0m\u001b[1mmylegendre\u001b[22m\u001b[0m\u001b[1m(\u001b[22m\u001b[90mn\u001b[39m::\u001b[0mInt64, \u001b[90mx\u001b[39m::\u001b[0mFloat64\u001b[0m\u001b[1m)\u001b[22m",
      "\u001b[90m   @\u001b[39m \u001b[35mMain\u001b[39m \u001b[90m./\u001b[39m\u001b[90m\u001b[4mIn[16]:12\u001b[24m\u001b[39m",
      " [2] \u001b[0m\u001b[1mmacro expansion\u001b[22m",
      "\u001b[90m   @\u001b[39m \u001b[90m\u001b[4mshow.jl:1232\u001b[24m\u001b[39m\u001b[90m [inlined]\u001b[39m",
      " [3] top-level scope",
      "\u001b[90m   @\u001b[39m \u001b[90m\u001b[4mIn[17]:2\u001b[24m\u001b[39m"
     ]
    }
   ],
   "source": [
    "\n",
    "@show mylegendre(3, 0.0);   # must be 0\n",
    "@show mylegendre(3, -1.0);  # must be -1"
   ]
  },
  {
   "cell_type": "code",
   "execution_count": 18,
   "id": "1f5143cc-24ec-40de-abcc-750c4136366f",
   "metadata": {},
   "outputs": [
    {
     "ename": "LoadError",
     "evalue": "UndefVarError: `m` not defined in `Main`\nSuggestion: check for spelling errors or missing imports.",
     "output_type": "error",
     "traceback": [
      "UndefVarError: `m` not defined in `Main`\nSuggestion: check for spelling errors or missing imports.",
      "",
      "Stacktrace:",
      " [1] \u001b[0m\u001b[1mmylegendre\u001b[22m\u001b[0m\u001b[1m(\u001b[22m\u001b[90mn\u001b[39m::\u001b[0mInt64, \u001b[90mx\u001b[39m::\u001b[0mFloat64\u001b[0m\u001b[1m)\u001b[22m",
      "\u001b[90m   @\u001b[39m \u001b[35mMain\u001b[39m \u001b[90m./\u001b[39m\u001b[90m\u001b[4mIn[16]:12\u001b[24m\u001b[39m",
      " [2] \u001b[0m\u001b[1mmacro expansion\u001b[22m",
      "\u001b[90m   @\u001b[39m \u001b[90m./\u001b[39m\u001b[90m\u001b[4mtiming.jl:581\u001b[24m\u001b[39m\u001b[90m [inlined]\u001b[39m",
      " [3] top-level scope",
      "\u001b[90m   @\u001b[39m \u001b[90m./\u001b[39m\u001b[90m\u001b[4mIn[18]:2\u001b[24m\u001b[39m"
     ]
    }
   ],
   "source": [
    "\n",
    "@time mylegendre(1, 1.0)"
   ]
  },
  {
   "cell_type": "code",
   "execution_count": 19,
   "id": "03bd928e-cb54-4e87-a05d-a24ede32d082",
   "metadata": {},
   "outputs": [
    {
     "ename": "LoadError",
     "evalue": "UndefVarError: `m` not defined in `Main`\nSuggestion: check for spelling errors or missing imports.",
     "output_type": "error",
     "traceback": [
      "UndefVarError: `m` not defined in `Main`\nSuggestion: check for spelling errors or missing imports.",
      "",
      "Stacktrace:",
      " [1] \u001b[0m\u001b[1mmylegendre\u001b[22m\u001b[0m\u001b[1m(\u001b[22m\u001b[90mn\u001b[39m::\u001b[0mInt64, \u001b[90mx\u001b[39m::\u001b[0mFloat64\u001b[0m\u001b[1m)\u001b[22m",
      "\u001b[90m   @\u001b[39m \u001b[35mMain\u001b[39m \u001b[90m./\u001b[39m\u001b[90m\u001b[4mIn[16]:12\u001b[24m\u001b[39m",
      " [2] \u001b[0m\u001b[1mmacro expansion\u001b[22m",
      "\u001b[90m   @\u001b[39m \u001b[90m./\u001b[39m\u001b[90m\u001b[4mtiming.jl:581\u001b[24m\u001b[39m\u001b[90m [inlined]\u001b[39m",
      " [3] top-level scope",
      "\u001b[90m   @\u001b[39m \u001b[90m./\u001b[39m\u001b[90m\u001b[4mIn[19]:2\u001b[24m\u001b[39m"
     ]
    }
   ],
   "source": [
    "\n",
    "@time mylegendre(51, -1.0)"
   ]
  },
  {
   "cell_type": "code",
   "execution_count": 20,
   "id": "6c63d873-6528-4a0c-97d0-be32c71a13f0",
   "metadata": {},
   "outputs": [],
   "source": [
    "\n",
    "np = 100\n",
    "x = range(-1.0, 1.0, np);"
   ]
  },
  {
   "cell_type": "code",
   "execution_count": 21,
   "id": "22a7bd17-e193-4e20-bf45-f74d73b639a8",
   "metadata": {},
   "outputs": [],
   "source": [
    "\n",
    "using PyPlot"
   ]
  },
  {
   "cell_type": "code",
   "execution_count": 22,
   "id": "d741a15e-1320-46f5-9053-842d117f36ae",
   "metadata": {},
   "outputs": [
    {
     "ename": "LoadError",
     "evalue": "UndefVarError: `m` not defined in `Main`\nSuggestion: check for spelling errors or missing imports.",
     "output_type": "error",
     "traceback": [
      "UndefVarError: `m` not defined in `Main`\nSuggestion: check for spelling errors or missing imports.",
      "",
      "Stacktrace:",
      " [1] \u001b[0m\u001b[1mmylegendre\u001b[22m\u001b[0m\u001b[1m(\u001b[22m\u001b[90mn\u001b[39m::\u001b[0mInt64, \u001b[90mx\u001b[39m::\u001b[0mFloat64\u001b[0m\u001b[1m)\u001b[22m",
      "\u001b[90m   @\u001b[39m \u001b[35mMain\u001b[39m \u001b[90m./\u001b[39m\u001b[90m\u001b[4mIn[16]:12\u001b[24m\u001b[39m",
      " [2] \u001b[0m\u001b[1m_broadcast_getindex_evalf\u001b[22m",
      "\u001b[90m   @\u001b[39m \u001b[90m./\u001b[39m\u001b[90m\u001b[4mbroadcast.jl:678\u001b[24m\u001b[39m\u001b[90m [inlined]\u001b[39m",
      " [3] \u001b[0m\u001b[1m_broadcast_getindex\u001b[22m",
      "\u001b[90m   @\u001b[39m \u001b[90m./\u001b[39m\u001b[90m\u001b[4mbroadcast.jl:651\u001b[24m\u001b[39m\u001b[90m [inlined]\u001b[39m",
      " [4] \u001b[0m\u001b[1mgetindex\u001b[22m",
      "\u001b[90m   @\u001b[39m \u001b[90m./\u001b[39m\u001b[90m\u001b[4mbroadcast.jl:610\u001b[24m\u001b[39m\u001b[90m [inlined]\u001b[39m",
      " [5] \u001b[0m\u001b[1mcopy\u001b[22m",
      "\u001b[90m   @\u001b[39m \u001b[90m./\u001b[39m\u001b[90m\u001b[4mbroadcast.jl:911\u001b[24m\u001b[39m\u001b[90m [inlined]\u001b[39m",
      " [6] \u001b[0m\u001b[1mmaterialize\u001b[22m\u001b[0m\u001b[1m(\u001b[22m\u001b[90mbc\u001b[39m::\u001b[0mBase.Broadcast.Broadcasted\u001b[90m{Base.Broadcast.DefaultArrayStyle{1}, Nothing, typeof(mylegendre), Tuple{Int64, StepRangeLen{Float64, Base.TwicePrecision{Float64}, Base.TwicePrecision{Float64}, Int64}}}\u001b[39m\u001b[0m\u001b[1m)\u001b[22m",
      "\u001b[90m   @\u001b[39m \u001b[90mBase.Broadcast\u001b[39m \u001b[90m./\u001b[39m\u001b[90m\u001b[4mbroadcast.jl:872\u001b[24m\u001b[39m",
      " [7] top-level scope",
      "\u001b[90m   @\u001b[39m \u001b[90m./\u001b[39m\u001b[90m\u001b[4mIn[22]:3\u001b[24m\u001b[39m"
     ]
    }
   ],
   "source": [
    "\n",
    "for n = [2,3,5]\n",
    "    plot(x, mylegendre.(n,x), label=L\"P_{%$n}\")\n",
    "end\n",
    "\n",
    "grid(true)\n",
    "title(\"Legendre polynomials\")\n",
    "xlabel(\"x\")\n",
    "ylabel(\"P_n(x)\")\n",
    "legend();"
   ]
  },
  {
   "cell_type": "code",
   "execution_count": null,
   "id": "6ab1e2a1-7a08-4873-aac8-a8ace1c856f1",
   "metadata": {},
   "outputs": [],
   "source": []
  },
  {
   "cell_type": "code",
   "execution_count": null,
   "id": "209653c3-275c-46c3-b050-9c50c90a2ba0",
   "metadata": {},
   "outputs": [],
   "source": []
  }
 ],
 "metadata": {
  "kernelspec": {
   "display_name": "Julia 1.11.6",
   "language": "julia",
   "name": "julia-1.11"
  },
  "language_info": {
   "file_extension": ".jl",
   "mimetype": "application/julia",
   "name": "julia",
   "version": "1.11.6"
  }
 },
 "nbformat": 4,
 "nbformat_minor": 5
}
