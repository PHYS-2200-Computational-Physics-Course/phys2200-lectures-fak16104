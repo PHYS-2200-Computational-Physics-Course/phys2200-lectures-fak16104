{
 "cells": [
  {
   "cell_type": "code",
   "execution_count": 47,
   "id": "f30e3071-bda2-4d74-848c-ce859fad6595",
   "metadata": {},
   "outputs": [
    {
     "data": {
      "text/plain": [
       "myfib (generic function with 1 method)"
      ]
     },
     "execution_count": 47,
     "metadata": {},
     "output_type": "execute_result"
    }
   ],
   "source": [
    "\"\"\"\n",
    "     my fib(n)\n",
    "\n",
    "Calculate Fibonacci number F_n using the recurrence relation\n",
    "F_1 = 1, F_2 = 1, and F_n = F_n-1 + F_n-2 for n > 2.\n",
    "\"\"\"\n",
    "\n",
    "function myfib(n)\n",
    "\n",
    "    fp = 1\n",
    "    if n == 1\n",
    "        return fp\n",
    "    end\n",
    "\n",
    "    fc = 1\n",
    "    if n == 2\n",
    "        return fc\n",
    "    end\n",
    "\n",
    "    for i = 3:n\n",
    "        fn = fc + fp\n",
    "        fp = fc\n",
    "        fc = fn\n",
    "    end\n",
    "\n",
    "    return fc\n",
    "end"
   ]
  },
  {
   "cell_type": "code",
   "execution_count": 45,
   "id": "aa4beae7-5c31-4446-8c8d-7e01563b0f1f",
   "metadata": {},
   "outputs": [
    {
     "name": "stdout",
     "output_type": "stream",
     "text": [
      "search: \u001b[0m\u001b[1mm\u001b[22m\u001b[0m\u001b[1my\u001b[22m\u001b[0m\u001b[1mf\u001b[22m\u001b[0m\u001b[1mi\u001b[22m\u001b[0m\u001b[1mb\u001b[22m\n",
      "\n"
     ]
    },
    {
     "data": {
      "text/latex": [
       "No documentation found for private symbol.\n",
       "\n",
       "\\texttt{myfib} is a \\texttt{Function}.\n",
       "\n",
       "\\begin{verbatim}\n",
       "# 1 method for generic function \"myfib\" from Main:\n",
       " [1] myfib(n)\n",
       "     @ In[44]:8\n",
       "\\end{verbatim}\n"
      ],
      "text/markdown": [
       "No documentation found for private symbol.\n",
       "\n",
       "`myfib` is a `Function`.\n",
       "\n",
       "```\n",
       "# 1 method for generic function \"myfib\" from Main:\n",
       " [1] myfib(n)\n",
       "     @ In[44]:8\n",
       "```\n"
      ],
      "text/plain": [
       "  No documentation found for private symbol.\n",
       "\n",
       "  \u001b[36mmyfib\u001b[39m is a \u001b[36mFunction\u001b[39m.\n",
       "\n",
       "\u001b[36m  # 1 method for generic function \"myfib\" from Main:\u001b[39m\n",
       "\u001b[36m   [1] myfib(n)\u001b[39m\n",
       "\u001b[36m       @ In[44]:8\u001b[39m"
      ]
     },
     "execution_count": 45,
     "metadata": {},
     "output_type": "execute_result"
    }
   ],
   "source": [
    "?myfib"
   ]
  },
  {
   "cell_type": "code",
   "execution_count": 46,
   "id": "10690bcc-edb8-4b6b-a549-a72df2f15d39",
   "metadata": {},
   "outputs": [
    {
     "data": {
      "text/plain": [
       "10-element Vector{Int64}:\n",
       "  1\n",
       "  1\n",
       "  2\n",
       "  3\n",
       "  5\n",
       "  8\n",
       " 13\n",
       " 21\n",
       " 34\n",
       " 55"
      ]
     },
     "execution_count": 46,
     "metadata": {},
     "output_type": "execute_result"
    }
   ],
   "source": [
    "myfib.(1:10)"
   ]
  },
  {
   "cell_type": "code",
   "execution_count": 51,
   "id": "58903afb-e9d7-4a02-8521-becc6b557842",
   "metadata": {},
   "outputs": [
    {
     "data": {
      "text/plain": [
       "myfib1 (generic function with 1 method)"
      ]
     },
     "execution_count": 51,
     "metadata": {},
     "output_type": "execute_result"
    }
   ],
   "source": [
    "function myfib1(n)\n",
    "    if n == 1\n",
    "        return 1\n",
    "    elseif n == 2\n",
    "        return 2\n",
    "    end\n",
    "\n",
    "    return myfib1(n-1) + myfib1(n-2)\n",
    "end\n",
    "        "
   ]
  },
  {
   "cell_type": "code",
   "execution_count": 53,
   "id": "6e5dec23-682e-4948-a4f5-9e6af6b5bb84",
   "metadata": {},
   "outputs": [
    {
     "data": {
      "text/plain": [
       "11-element Vector{Int64}:\n",
       "   1\n",
       "   2\n",
       "   3\n",
       "   5\n",
       "   8\n",
       "  13\n",
       "  21\n",
       "  34\n",
       "  55\n",
       "  89\n",
       " 144"
      ]
     },
     "execution_count": 53,
     "metadata": {},
     "output_type": "execute_result"
    }
   ],
   "source": [
    "myfib1.(1:11)"
   ]
  },
  {
   "cell_type": "code",
   "execution_count": null,
   "id": "7b3aa2fa-0dce-4fd9-845f-9b3bfba3defd",
   "metadata": {},
   "outputs": [],
   "source": [
    "@time myfib(50);"
   ]
  },
  {
   "cell_type": "code",
   "execution_count": null,
   "id": "260f9c4f-105a-49ab-9596-1a831ec06008",
   "metadata": {},
   "outputs": [],
   "source": [
    "@time myfib1(50);"
   ]
  },
  {
   "cell_type": "code",
   "execution_count": null,
   "id": "0c81d0f1-5035-44ca-adc9-01d1545cd35c",
   "metadata": {},
   "outputs": [],
   "source": []
  }
 ],
 "metadata": {
  "kernelspec": {
   "display_name": "Julia 1.11.6",
   "language": "julia",
   "name": "julia-1.11"
  },
  "language_info": {
   "file_extension": ".jl",
   "mimetype": "application/julia",
   "name": "julia",
   "version": "1.11.6"
  }
 },
 "nbformat": 4,
 "nbformat_minor": 5
}
