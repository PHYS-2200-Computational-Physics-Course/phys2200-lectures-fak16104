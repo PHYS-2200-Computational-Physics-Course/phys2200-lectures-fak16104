{
 "cells": [
  {
   "cell_type": "code",
   "execution_count": 5,
   "id": "95b1335b-a5ad-4a0c-8483-a0b55811b07f",
   "metadata": {},
   "outputs": [
    {
     "data": {
      "text/plain": [
       "mytrapezoids"
      ]
     },
     "execution_count": 5,
     "metadata": {},
     "output_type": "execute_result"
    }
   ],
   "source": [
    "\"\"\"\n",
    "    ans = mytrapezoids(fun, a, b, n)\n",
    "\n",
    "Numerically evaluate the integral int_a^b fun(x) dx using the\n",
    "trapezoidal rule: I = h/2*(f_1 + 2f_2 + ... + 2f_{n-1} + f_n),\n",
    "where h = (b - a)/(n - 1), x_i = a + (i - 1)*h, f_i = fun(x_i).\n",
    "\"\"\"\n",
    "function mytrapezoids(fun, a, b, n)\n",
    "    h = (b - a)/(n - 1)\n",
    "    s1 = fun(a) + fun(b)\n",
    "    s2 = 0.0\n",
    "    for i = 2:(n-1)\n",
    "        s2 += fun(a + (i-1)*h)\n",
    "    end\n",
    "    return (h/2)*(s1 + 2*s2)\n",
    "end"
   ]
  },
  {
   "cell_type": "code",
   "execution_count": 6,
   "id": "2c91dd70-27de-4efc-9bbf-c3b5869d02d7",
   "metadata": {},
   "outputs": [
    {
     "name": "stdout",
     "output_type": "stream",
     "text": [
      "search: \u001b[0m\u001b[1mm\u001b[22m\u001b[0m\u001b[1my\u001b[22m\u001b[0m\u001b[1mt\u001b[22m\u001b[0m\u001b[1mr\u001b[22m\u001b[0m\u001b[1ma\u001b[22m\u001b[0m\u001b[1mp\u001b[22m\u001b[0m\u001b[1me\u001b[22m\u001b[0m\u001b[1mz\u001b[22m\u001b[0m\u001b[1mo\u001b[22m\u001b[0m\u001b[1mi\u001b[22m\u001b[0m\u001b[1md\u001b[22m\u001b[0m\u001b[1ms\u001b[22m\n",
      "\n"
     ]
    },
    {
     "data": {
      "text/latex": [
       "\\begin{verbatim}\n",
       "ans = mytrapezoids(fun, a, b, n)\n",
       "\\end{verbatim}\n",
       "Numerically evaluate the integral int\\emph{a\\^{}b fun(x) dx using the trapezoidal rule: I = h/2*(f}1 + 2f\\emph{2 + ... + 2f}\\{n-1\\} + f\\emph{n), where h = (b - a)/(n - 1), x}i = a + (i - 1)*h, f\\emph{i = fun(x}i).\n",
       "\n"
      ],
      "text/markdown": [
       "```\n",
       "ans = mytrapezoids(fun, a, b, n)\n",
       "```\n",
       "\n",
       "Numerically evaluate the integral int*a^b fun(x) dx using the trapezoidal rule: I = h/2*(f*1 + 2f*2 + ... + 2f*{n-1} + f*n), where h = (b - a)/(n - 1), x*i = a + (i - 1)*h, f*i = fun(x*i).\n"
      ],
      "text/plain": [
       "\u001b[36m  ans = mytrapezoids(fun, a, b, n)\u001b[39m\n",
       "\n",
       "  Numerically evaluate the integral int\u001b[4ma^b fun(x) dx using the trapezoidal\u001b[24m\n",
       "  \u001b[4mrule: I = h/2*(f\u001b[24m1 + 2f\u001b[4m2 + ... + 2f\u001b[24m{n-1} + f\u001b[4mn), where h = (b - a)/(n - 1), x\u001b[24mi\n",
       "  = a + (i - 1)*h, f\u001b[4mi = fun(x\u001b[24mi)."
      ]
     },
     "execution_count": 6,
     "metadata": {},
     "output_type": "execute_result"
    }
   ],
   "source": [
    "?mytrapezoids"
   ]
  },
  {
   "cell_type": "code",
   "execution_count": 7,
   "id": "d5112a3d-6d06-4fba-8081-7a3f0d70adb3",
   "metadata": {},
   "outputs": [
    {
     "data": {
      "text/plain": [
       "20"
      ]
     },
     "execution_count": 7,
     "metadata": {},
     "output_type": "execute_result"
    }
   ],
   "source": [
    "fun1(x) = 1/x\n",
    "a1 = 1.0\n",
    "b1 = 2.0\n",
    "exact1 = log(2)\n",
    "np1 = 20"
   ]
  },
  {
   "cell_type": "code",
   "execution_count": 8,
   "id": "56fbfa16-21e4-4319-961f-8891f2028d99",
   "metadata": {},
   "outputs": [
    {
     "data": {
      "text/plain": [
       "0.6933202508885106"
      ]
     },
     "execution_count": 8,
     "metadata": {},
     "output_type": "execute_result"
    }
   ],
   "source": [
    "\n",
    "res1 = mytrapezoids(fun1, a1, b1, np1)"
   ]
  },
  {
   "cell_type": "code",
   "execution_count": 9,
   "id": "f333949d-7ed0-4a5c-a098-dd4bc4d6c83c",
   "metadata": {},
   "outputs": [
    {
     "data": {
      "text/plain": [
       "0.0002"
      ]
     },
     "execution_count": 9,
     "metadata": {},
     "output_type": "execute_result"
    }
   ],
   "source": [
    "round(abs(res1 - exact1), sigdigits=1)"
   ]
  },
  {
   "cell_type": "code",
   "execution_count": 10,
   "id": "e46e131f-5443-4a7a-bc78-b7f9bc698095",
   "metadata": {},
   "outputs": [
    {
     "data": {
      "text/plain": [
       "100"
      ]
     },
     "execution_count": 10,
     "metadata": {},
     "output_type": "execute_result"
    }
   ],
   "source": [
    "fun2(x) = exp(x)\n",
    "a2 = 0.0\n",
    "b2 = 1.0\n",
    "exact2 = exp(1) - 1.0\n",
    "np2 = 100"
   ]
  },
  {
   "cell_type": "code",
   "execution_count": 11,
   "id": "77f6a932-0e88-4a56-be3d-948188f2c545",
   "metadata": {},
   "outputs": [
    {
     "data": {
      "text/plain": [
       "1.718296438183449"
      ]
     },
     "execution_count": 11,
     "metadata": {},
     "output_type": "execute_result"
    }
   ],
   "source": [
    "res2 = mytrapezoids(fun2,a2,b2,np2)"
   ]
  },
  {
   "cell_type": "code",
   "execution_count": 12,
   "id": "0812efc1-eead-49a3-bc18-1f035731d212",
   "metadata": {},
   "outputs": [
    {
     "data": {
      "text/plain": [
       "1.0e-5"
      ]
     },
     "execution_count": 12,
     "metadata": {},
     "output_type": "execute_result"
    }
   ],
   "source": [
    "round(abs(res2 - exact2), sigdigits=1)"
   ]
  },
  {
   "cell_type": "code",
   "execution_count": 13,
   "id": "3135b3ea-1802-4bf2-a84c-ea0861c4a515",
   "metadata": {},
   "outputs": [
    {
     "data": {
      "text/plain": [
       "2.0"
      ]
     },
     "execution_count": 13,
     "metadata": {},
     "output_type": "execute_result"
    }
   ],
   "source": [
    "fun3(x) = sin(x)\n",
    "a3 = 0.0\n",
    "b3 = pi\n",
    "exact3 = 2.0"
   ]
  },
  {
   "cell_type": "code",
   "execution_count": 14,
   "id": "8d3a4450-eb85-4d11-b2e2-448e5ac023fb",
   "metadata": {},
   "outputs": [],
   "source": [
    "ndp = 10\n",
    "hh =  zeros(ndp)\n",
    "abserrs = zeros(ndp);"
   ]
  },
  {
   "cell_type": "code",
   "execution_count": 15,
   "id": "4b70b677-deeb-4624-a07c-c4449e217516",
   "metadata": {},
   "outputs": [],
   "source": [
    "\n",
    "for i = 1:ndp\n",
    "    np = 2^i + 1\n",
    "    hh[i] = (b3 - a3)/(np - 1)\n",
    "    abserrs[i] = abs(mytrapezoids(fun3,a3,b3,np) - exact3)\n",
    "end"
   ]
  },
  {
   "cell_type": "code",
   "execution_count": 16,
   "id": "fcf03c11-f2e7-47ce-aa27-f0b111d919e6",
   "metadata": {},
   "outputs": [
    {
     "data": {
      "text/plain": [
       "10-element Vector{Float64}:\n",
       " 0.42920367320510344\n",
       " 0.1038811020629602\n",
       " 0.025768398054449193\n",
       " 0.006429656227660452\n",
       " 0.0016066390298559163\n",
       " 0.00040161135996252817\n",
       " 0.00010039981579623714\n",
       " 2.5099764946912018e-5\n",
       " 6.274929423177866e-6\n",
       " 1.5687316166079768e-6"
      ]
     },
     "execution_count": 16,
     "metadata": {},
     "output_type": "execute_result"
    }
   ],
   "source": [
    "abserrs"
   ]
  },
  {
   "cell_type": "code",
   "execution_count": 17,
   "id": "548c63f4-82ff-47b3-945a-1ecf35c03731",
   "metadata": {},
   "outputs": [],
   "source": [
    "using PyPlot"
   ]
  },
  {
   "cell_type": "code",
   "execution_count": 18,
   "id": "683222ee-8c6d-4e0c-9875-4d0770ce32e1",
   "metadata": {},
   "outputs": [
    {
     "data": {
      "image/png": "[encoded data removed]",
      "text/plain": [
       "Figure(PyObject <Figure size 640x480 with 1 Axes>)"
      ]
     },
     "metadata": {},
     "output_type": "display_data"
    }
   ],
   "source": [
    "loglog(hh,abserrs,marker=\".\", label=\"numerical experiment\")\n",
    "loglog(hh, hh.^2, linestyle=\"dashed\",label=L\"h^2\")\n",
    "grid(true)\n",
    "xlabel(\"h\")\n",
    "ylabel(\"absolute error\")\n",
    "title(\"Error of trapezoidal formula\")\n",
    "legend();"
   ]
  },
  {
   "cell_type": "code",
   "execution_count": 29,
   "id": "f9e63ff3-9023-45f1-9149-5ce7719230ea",
   "metadata": {},
   "outputs": [
    {
     "data": {
      "text/plain": [
       "mytrapezoids2 (generic function with 1 method)"
      ]
     },
     "execution_count": 29,
     "metadata": {},
     "output_type": "execute_result"
    }
   ],
   "source": [
    "\n",
    "function mytrapezoids2(fv, h)\n",
    "    return h/2 * (fv[1] + fv[end] + 2*sum(fv[2:(end-1)]))\n",
    "end\n",
    "        "
   ]
  },
  {
   "cell_type": "code",
   "execution_count": 30,
   "id": "bd9ef409-6ea2-4e69-8292-5a1abf5c4159",
   "metadata": {},
   "outputs": [
    {
     "data": {
      "text/plain": [
       "0.0002"
      ]
     },
     "execution_count": 30,
     "metadata": {},
     "output_type": "execute_result"
    }
   ],
   "source": [
    "x1 = range(a1,b1,np1)\n",
    "fv1 = fun1.(x1)\n",
    "h1 = x1[2] - x1[1]\n",
    "round(abs(mytrapezoids2(fv1, h1) - exact1), sigdigits=1)"
   ]
  },
  {
   "cell_type": "code",
   "execution_count": 40,
   "id": "9c0fb157-9747-49a2-960f-4811740a28d9",
   "metadata": {},
   "outputs": [
    {
     "data": {
      "text/plain": [
       "simpsons2 (generic function with 1 method)"
      ]
     },
     "execution_count": 40,
     "metadata": {},
     "output_type": "execute_result"
    }
   ],
   "source": [
    "function simpsons2(fun,a,b,n)\n",
    "    x =range(a,b,n)\n",
    "    fv = fun.(x)\n",
    "    h = x[2] - x[1]\n",
    "    th = mytrapezoids2(fv,h)\n",
    "    t2h = mytrapezoids2(fv[1:2:end],2*h)\n",
    "    simp = 1/3 * (4*th - t2h)\n",
    "    return simp\n",
    "end"
   ]
  },
  {
   "cell_type": "code",
   "execution_count": 43,
   "id": "239979f1-9020-414c-b274-a5c3f60da69d",
   "metadata": {},
   "outputs": [
    {
     "data": {
      "text/plain": [
       "3.0e-6"
      ]
     },
     "execution_count": 43,
     "metadata": {},
     "output_type": "execute_result"
    }
   ],
   "source": [
    "\n",
    "nps1 = 11\n",
    "round(abs(simpsons2(fun1,a1,b1,nps1) - exact1), sigdigits=1)"
   ]
  },
  {
   "cell_type": "code",
   "execution_count": 44,
   "id": "ab50a9a6-abfa-41ec-b0f2-7aac7981f07b",
   "metadata": {},
   "outputs": [
    {
     "data": {
      "text/plain": [
       "1.0e-10"
      ]
     },
     "execution_count": 44,
     "metadata": {},
     "output_type": "execute_result"
    }
   ],
   "source": [
    "\n",
    "nps2 = 99\n",
    "round(abs(simpsons2(fun2, a2,b2,nps2) - exact2), sigdigits=1)"
   ]
  },
  {
   "cell_type": "code",
   "execution_count": 47,
   "id": "1eab4eda-82cb-4310-a685-61b34f58417e",
   "metadata": {},
   "outputs": [
    {
     "data": {
      "text/plain": [
       "3.0e-7"
      ]
     },
     "execution_count": 47,
     "metadata": {},
     "output_type": "execute_result"
    }
   ],
   "source": [
    "\n",
    "nn = 500\n",
    "round(abs(mytrapezoids(fun1,a1,b1,nn) - exact1), sigdigits = 1)"
   ]
  },
  {
   "cell_type": "code",
   "execution_count": 48,
   "id": "9344c4dc-67ba-4ad6-aa71-15527b69bb74",
   "metadata": {},
   "outputs": [
    {
     "data": {
      "text/plain": [
       "test (generic function with 1 method)"
      ]
     },
     "execution_count": 48,
     "metadata": {},
     "output_type": "execute_result"
    }
   ],
   "source": [
    "\n",
    "function test(n)\n",
    "    if iseven(n) || n<3\n",
    "        return Inf\n",
    "    end\n",
    "    return 0\n",
    "end"
   ]
  },
  {
   "cell_type": "code",
   "execution_count": 49,
   "id": "9c205c62-2f3d-4d2b-aa1a-4a51270a61bf",
   "metadata": {},
   "outputs": [
    {
     "data": {
      "text/plain": [
       "Inf"
      ]
     },
     "execution_count": 49,
     "metadata": {},
     "output_type": "execute_result"
    }
   ],
   "source": [
    "test(1)"
   ]
  },
  {
   "cell_type": "code",
   "execution_count": null,
   "id": "b78a460c-8a6b-4fb0-aaa2-892fd63de616",
   "metadata": {},
   "outputs": [],
   "source": []
  }
 ],
 "metadata": {
  "kernelspec": {
   "display_name": "Julia 1.11.6",
   "language": "julia",
   "name": "julia-1.11"
  },
  "language_info": {
   "file_extension": ".jl",
   "mimetype": "application/julia",
   "name": "julia",
   "version": "1.11.6"
  }
 },
 "nbformat": 4,
 "nbformat_minor": 5
}
